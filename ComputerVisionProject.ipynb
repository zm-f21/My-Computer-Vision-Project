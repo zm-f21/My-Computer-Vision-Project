{
  "nbformat": 4,
  "nbformat_minor": 0,
  "metadata": {
    "colab": {
      "provenance": [],
      "collapsed_sections": [
        "3BCBLWEHPxeW"
      ],
      "gpuType": "T4",
      "include_colab_link": true
    },
    "kernelspec": {
      "name": "python3",
      "display_name": "Python 3"
    },
    "language_info": {
      "name": "python"
    },
    "accelerator": "GPU"
  },
  "cells": [
    {
      "cell_type": "markdown",
      "metadata": {
        "id": "view-in-github",
        "colab_type": "text"
      },
      "source": [
        "<a href=\"https://colab.research.google.com/github/zm-f21/My-Computer-Vision-Project/blob/Branch-3/ComputerVisionProject.ipynb\" target=\"_parent\"><img src=\"https://colab.research.google.com/assets/colab-badge.svg\" alt=\"Open In Colab\"/></a>"
      ]
    },
    {
      "cell_type": "markdown",
      "source": [
        "<center><h1> <b> Object Detection Using YOLO <b> </h1></center>"
      ],
      "metadata": {
        "id": "URt4Q-TNmNDj"
      }
    },
    {
      "cell_type": "markdown",
      "source": [
        "This tutorial is designed to provide a comprehensive understanding of how to use YOLO, a state-of-the-art method in computer vision, for detecting objects in images.\n",
        "\n",
        "Object detection and classification is a key technology in many areas, such as automated vehicles, security, and even healthcare.\n",
        "\n",
        "We will begin with the basics of preparing (pre processing) an image dataset, ensuring it is ready for effective model training.We will then explore how YOLO, a type of convolutional neural network, automatically extracts features from images to recognize different objects. Understanding this process is crucial for grasping how YOLO operates.\n",
        "\n",
        "The core of this tutorial is focused on transfer learning using YOLO. We will teach you how to take a pre-trained YOLO model and adapt it to a new dataset. This technique is efficient and powerful, allowing us to harness the strengths of YOLO with less computational effort.\n",
        "\n",
        "By the end of this tutorial, you will have hands-on experience with preparing data, implementing YOLO, and understanding the principles behind it. This tutorial aims to equip students with practical skills and knowledge in one of the most exciting fields in technology."
      ],
      "metadata": {
        "id": "ZIi4bjh7mIJd"
      }
    },
    {
      "cell_type": "markdown",
      "source": [
        "Since its inception, the YOLO family of object detection models has come a long way. YOLOv8 is the most recent addition to this famous anchor-based single-shot family of object detectors. It comes with a bunch of improvements which include state-of-the-art accuracy and speed.  In this article, we will be fine tuning the YOLOv8 object detection model on a real-world pothole detection dataset."
      ],
      "metadata": {
        "id": "vsmlgXapu5rx"
      }
    },
    {
      "cell_type": "markdown",
      "source": [
        "In the previous lecture, you were asked to make your own custom datasets for a project you want to work on. Today we will explore how to finetune YOLO on a certain dataset.  "
      ],
      "metadata": {
        "id": "v5zL0avFnNaJ"
      }
    },
    {
      "cell_type": "markdown",
      "source": [
        "Importing required Libraries"
      ],
      "metadata": {
        "id": "rr-j-jCmaHId"
      }
    },
    {
      "cell_type": "code",
      "source": [
        "# Resources:\n",
        "# Yolo Classification Model: https://docs.ultralytics.com/tasks/classify/#val"
      ],
      "metadata": {
        "id": "-4UGKW3X7ja8"
      },
      "execution_count": null,
      "outputs": []
    },
    {
      "cell_type": "code",
      "source": [
        "# Only run the code below when you want to clear files:\n",
        "# !rm -rf /content/*"
      ],
      "metadata": {
        "id": "GNNIiYig7l6t"
      },
      "execution_count": 27,
      "outputs": []
    },
    {
      "cell_type": "code",
      "source": [
        "import zipfile\n",
        "import os\n",
        "\n",
        "# Create a folder for the unzipped files\n",
        "os.makedirs(\"/content/Styles_unzipped\", exist_ok=True)\n",
        "\n",
        "# Unzip the file into that folder\n",
        "with zipfile.ZipFile(\"/content/Styles.zip\", 'r') as zip_ref:\n",
        "    zip_ref.extractall(\"/content/Styles_unzipped\")\n",
        "\n",
        "# Verify contents\n",
        "os.listdir(\"/content/Styles_unzipped\")\n"
      ],
      "metadata": {
        "id": "Qeb4_GgaaiRZ",
        "outputId": "53659afb-980f-47db-c1ba-7cd377b71b65",
        "colab": {
          "base_uri": "https://localhost:8080/"
        }
      },
      "execution_count": 30,
      "outputs": [
        {
          "output_type": "execute_result",
          "data": {
            "text/plain": [
              "['Styles']"
            ]
          },
          "metadata": {},
          "execution_count": 30
        }
      ]
    },
    {
      "cell_type": "code",
      "source": [
        "import numpy as np # linear algebra\n",
        "import pandas as pd # data processing, CSV file I/O (e.g. pd.read_csv)\n",
        "import matplotlib.pyplot as plt\n",
        "import tensorflow as tf\n",
        "from tensorflow import keras\n",
        "import cv2\n",
        "import seaborn as sns\n",
        "import glob\n",
        "import xml.etree.ElementTree as ET\n",
        "from PIL import Image, ImageOps\n",
        "import os\n",
        "import shutil\n",
        "import os, random\n",
        "from tqdm import tqdm\n",
        "\n",
        "# #/\n",
        "# base_dir = \"/content/asset_styles\"\n",
        "# os.makedirs(base_dir, exist_ok=True)\n",
        "\n",
        "# # Paths for train/val/test\n",
        "# for split in [\"train\", \"val\", \"test\"]:\n",
        "#     os.makedirs(os.path.join(base_dir, split), exist_ok=True)\n",
        "#     /#\n"
      ],
      "metadata": {
        "id": "3_BT3x6HaFLn"
      },
      "execution_count": 31,
      "outputs": []
    },
    {
      "cell_type": "code",
      "source": [
        "# @title\n",
        "# OLD CODE OCT 26:\n",
        "# The Code Below is the same as the Code Above but it resizes large images to\n",
        "# avoid bomb decrompression and to convert tranparent images into RGB\n",
        "import os\n",
        "import shutil\n",
        "import random\n",
        "from PIL import Image, ImageOps\n",
        "from tqdm import tqdm\n",
        "\n",
        "# --- CONFIG ---\n",
        "source_dir = \"/content/Styles_unzipped\"   # parent folder\n",
        "output_base = \"/content/asset_styles_yolo\"       # YOLO-ready dataset output\n",
        "splits = {\"train\": 0.7, \"val\": 0.2, \"test\": 0.1}\n",
        "augment = True  # enable data augmentation\n",
        "\n",
        "# --- Step 1: Create split folders ---\n",
        "for split in splits.keys():\n",
        "    os.makedirs(os.path.join(output_base, split), exist_ok=True)\n",
        "\n",
        "# --- Step 2: Loop through style folders (Cartoon Stylized, Pixel Art, Vector Art) ---\n",
        "style_folders = [f for f in os.listdir(source_dir) if os.path.isdir(os.path.join(source_dir, f))]\n",
        "\n",
        "for style in style_folders:\n",
        "    style_path = os.path.join(source_dir, style)\n",
        "    label_name = style.replace(\" \", \"_\")  # YOLO doesn’t like spaces in class names\n",
        "\n",
        "    # Create subfolders for each split\n",
        "    for split in splits.keys():\n",
        "        os.makedirs(os.path.join(output_base, split, label_name), exist_ok=True)\n",
        "\n",
        "    # Collect all image paths from all subfolders (Background, Characters, Object, UI, etc.)\n",
        "    image_paths = []\n",
        "    for root, _, files in os.walk(style_path):\n",
        "        for f in files:\n",
        "            if f.lower().endswith((\".png\", \".jpg\", \".jpeg\")):\n",
        "                image_paths.append(os.path.join(root, f))\n",
        "\n",
        "    print(f\"📂 Found {len(image_paths)} images for {label_name}\")\n",
        "\n",
        "    # Shuffle and split\n",
        "    random.shuffle(image_paths)\n",
        "    n = len(image_paths)\n",
        "    train_end = int(splits[\"train\"] * n)\n",
        "    val_end = int((splits[\"train\"] + splits[\"val\"]) * n)\n",
        "\n",
        "    split_data = {\n",
        "        \"train\": image_paths[:train_end],\n",
        "        \"val\": image_paths[train_end:val_end],\n",
        "        \"test\": image_paths[val_end:]\n",
        "    }\n",
        "\n",
        "    # --- Step 3: Copy and augment images ---\n",
        "    for split, imgs in split_data.items():\n",
        "        dest_dir = os.path.join(output_base, split, label_name)\n",
        "        for img_path in tqdm(imgs, desc=f\"{label_name} → {split}\"):\n",
        "            try:\n",
        "                with Image.open(img_path) as img:\n",
        "                    # --- Fix transparency / color mode ---\n",
        "                    if img.mode == \"RGBA\":\n",
        "                        img = img.convert(\"RGB\")\n",
        "\n",
        "                    # --- Resize if image is very large ---\n",
        "                    if max(img.size) > 2048:\n",
        "                        img.thumbnail((2048, 2048))  # keeps aspect ratio\n",
        "\n",
        "                    base_name = os.path.basename(img_path)\n",
        "                    save_path = os.path.join(dest_dir, base_name)\n",
        "                    img.save(save_path)\n",
        "\n",
        "                    # --- Step 4: Data Augmentation (optional) ---\n",
        "                    if augment and split == \"train\":\n",
        "                        # Horizontal Flip\n",
        "                        flipped = ImageOps.mirror(img)\n",
        "                        flipped.save(os.path.join(dest_dir, \"flip_\" + base_name))\n",
        "\n",
        "                        # Vertical Flip\n",
        "                        flipped_v = ImageOps.flip(img)\n",
        "                        flipped_v.save(os.path.join(dest_dir, \"vflip_\" + base_name))\n",
        "\n",
        "                        # Small Rotation (-15 to +15 degrees)\n",
        "                        angle = random.uniform(-15, 15)\n",
        "                        rotated = img.rotate(angle, expand=True)\n",
        "                        rotated.save(os.path.join(dest_dir, f\"rot{int(angle)}_\" + base_name))\n",
        "\n",
        "            except Exception as e:\n",
        "                print(f\"⚠️ Skipping {img_path}: {e}\")\n",
        "\n",
        "print(\"\\n✅ Dataset prepared successfully in YOLO classification format!\")\n",
        "print(f\"📁 Output location: {output_base}\")\n"
      ],
      "metadata": {
        "id": "8zZfEJ-GlKJG",
        "colab": {
          "base_uri": "https://localhost:8080/"
        },
        "outputId": "d9fb8479-e803-4f97-a7f4-9c2db76e4e5f",
        "cellView": "form",
        "collapsed": true
      },
      "execution_count": null,
      "outputs": [
        {
          "output_type": "stream",
          "name": "stdout",
          "text": [
            "📂 Found 100 images for Hand_Painted\n"
          ]
        },
        {
          "output_type": "stream",
          "name": "stderr",
          "text": [
            "Hand_Painted → train: 100%|██████████| 70/70 [01:51<00:00,  1.60s/it]\n",
            "Hand_Painted → val: 100%|██████████| 19/19 [00:10<00:00,  1.76it/s]\n",
            "Hand_Painted → test: 100%|██████████| 11/11 [00:03<00:00,  3.32it/s]\n"
          ]
        },
        {
          "output_type": "stream",
          "name": "stdout",
          "text": [
            "📂 Found 100 images for Pixel_Art\n"
          ]
        },
        {
          "output_type": "stream",
          "name": "stderr",
          "text": [
            "Pixel_Art → train: 100%|██████████| 70/70 [00:08<00:00,  7.92it/s]\n",
            "Pixel_Art → val: 100%|██████████| 19/19 [00:00<00:00, 33.05it/s]\n",
            "Pixel_Art → test: 100%|██████████| 11/11 [00:00<00:00, 22.55it/s]\n"
          ]
        },
        {
          "output_type": "stream",
          "name": "stdout",
          "text": [
            "📂 Found 109 images for Cartoon_Stylized\n"
          ]
        },
        {
          "output_type": "stream",
          "name": "stderr",
          "text": [
            "Cartoon_Stylized → train:  49%|████▊     | 37/76 [00:29<00:25,  1.52it/s]/usr/local/lib/python3.12/dist-packages/PIL/Image.py:3452: DecompressionBombWarning: Image size (93651448 pixels) exceeds limit of 89478485 pixels, could be decompression bomb DOS attack.\n",
            "  warnings.warn(\n",
            "Cartoon_Stylized → train:  95%|█████████▍| 72/76 [01:05<00:02,  1.46it/s]"
          ]
        },
        {
          "output_type": "stream",
          "name": "stdout",
          "text": [
            "⚠️ Skipping /content/Styles_unzipped/Cartoon Stylized/Objects/cartoon_obj_24.png: Image size (488023972 pixels) exceeds limit of 178956970 pixels, could be decompression bomb DOS attack.\n"
          ]
        },
        {
          "output_type": "stream",
          "name": "stderr",
          "text": [
            "Cartoon_Stylized → train: 100%|██████████| 76/76 [01:10<00:00,  1.08it/s]\n",
            "Cartoon_Stylized → val: 100%|██████████| 22/22 [00:12<00:00,  1.78it/s]\n"
          ]
        },
        {
          "output_type": "stream",
          "name": "stdout",
          "text": [
            "⚠️ Skipping /content/Styles_unzipped/Cartoon Stylized/Objects/cartoon_obj_22.png: Image size (277788889 pixels) exceeds limit of 178956970 pixels, could be decompression bomb DOS attack.\n"
          ]
        },
        {
          "output_type": "stream",
          "name": "stderr",
          "text": [
            "Cartoon_Stylized → test: 100%|██████████| 11/11 [00:05<00:00,  1.99it/s]\n"
          ]
        },
        {
          "output_type": "stream",
          "name": "stdout",
          "text": [
            "📂 Found 0 images for .ipynb_checkpoints\n"
          ]
        },
        {
          "output_type": "stream",
          "name": "stderr",
          "text": [
            ".ipynb_checkpoints → train: 0it [00:00, ?it/s]\n",
            ".ipynb_checkpoints → val: 0it [00:00, ?it/s]\n",
            ".ipynb_checkpoints → test: 0it [00:00, ?it/s]\n"
          ]
        },
        {
          "output_type": "stream",
          "name": "stdout",
          "text": [
            "📂 Found 100 images for Vector_Art\n"
          ]
        },
        {
          "output_type": "stream",
          "name": "stderr",
          "text": [
            "Vector_Art → train: 100%|██████████| 70/70 [00:26<00:00,  2.61it/s]\n",
            "Vector_Art → val: 100%|██████████| 19/19 [00:04<00:00,  4.33it/s]\n",
            "Vector_Art → test: 100%|██████████| 11/11 [00:02<00:00,  4.64it/s]"
          ]
        },
        {
          "output_type": "stream",
          "name": "stdout",
          "text": [
            "\n",
            "✅ Dataset prepared successfully in YOLO classification format!\n",
            "📁 Output location: /content/asset_styles_yolo\n"
          ]
        },
        {
          "output_type": "stream",
          "name": "stderr",
          "text": [
            "\n"
          ]
        }
      ]
    },
    {
      "cell_type": "code",
      "source": [
        "import shutil\n",
        "import os\n",
        "\n",
        "folder_path = \"/content/asset_styles_yolo\"\n",
        "\n",
        "# Check if the folder exists before deleting\n",
        "if os.path.exists(folder_path):\n",
        "    shutil.rmtree(folder_path)\n",
        "    print(f\"✅ Deleted folder and all contents: {folder_path}\")\n",
        "else:\n",
        "    print(f\"⚠️ Folder not found: {folder_path}\")"
      ],
      "metadata": {
        "colab": {
          "base_uri": "https://localhost:8080/"
        },
        "id": "Umkf21I46yA5",
        "outputId": "e078c23f-d48b-4e2c-a783-73121a785810"
      },
      "execution_count": 29,
      "outputs": [
        {
          "output_type": "stream",
          "name": "stdout",
          "text": [
            "⚠️ Folder not found: /content/asset_styles_yolo\n"
          ]
        }
      ]
    },
    {
      "cell_type": "code",
      "source": [
        "import os\n",
        "import random\n",
        "from PIL import Image, ImageOps\n",
        "from tqdm import tqdm\n",
        "\n",
        "Image.MAX_IMAGE_PIXELS = None  # avoid decompression bombs\n",
        "\n",
        "# --- CONFIG ---\n",
        "source_dir = \"/content/Styles_unzipped/Styles\"   # folder containing only your class folders\n",
        "output_base = \"/content/asset_styles_yolo\"       # YOLO-ready dataset output\n",
        "splits = {\"train\": 0.7, \"val\": 0.2, \"test\": 0.1}\n",
        "augment = True\n",
        "max_dim = 2048\n",
        "pad_color = (114, 114, 114)  # YOLO neutral padding\n",
        "\n",
        "# --- Step 1: Gather only valid style folders ---\n",
        "all_folders = [\n",
        "    f for f in os.listdir(source_dir)\n",
        "    if os.path.isdir(os.path.join(source_dir, f)) and not f.startswith(\".\")\n",
        "]\n",
        "style_folders = sorted(all_folders)  # sort to keep consistent class order\n",
        "print(f\"Detected style classes: {style_folders}\")\n",
        "\n",
        "# --- Step 2: Create split folders for each class ---\n",
        "for split in splits.keys():\n",
        "    for style in style_folders:\n",
        "        os.makedirs(os.path.join(output_base, split, style.replace(\" \", \"_\")), exist_ok=True)\n",
        "\n",
        "# --- Helper function: pad to square ---\n",
        "def pad_to_square(img, pad_color=(114, 114, 114)):\n",
        "    w, h = img.size\n",
        "    size = max(w, h)\n",
        "    new_img = Image.new(\"RGB\", (size, size), pad_color)\n",
        "    new_img.paste(img, ((size - w) // 2, (size - h) // 2))\n",
        "    return new_img\n",
        "\n",
        "# --- Step 3: Process each style folder ---\n",
        "for style in style_folders:\n",
        "    style_path = os.path.join(source_dir, style)\n",
        "    label_name = style.replace(\" \", \"_\")\n",
        "\n",
        "    # Gather all image paths\n",
        "    image_paths = []\n",
        "    for root, _, files in os.walk(style_path):\n",
        "        for f in files:\n",
        "            if f.lower().endswith((\".png\", \".jpg\", \".jpeg\")):\n",
        "                image_paths.append(os.path.join(root, f))\n",
        "\n",
        "    print(f\"📂 Found {len(image_paths)} images for {label_name}\")\n",
        "\n",
        "    # Shuffle and split\n",
        "    random.shuffle(image_paths)\n",
        "    n = len(image_paths)\n",
        "    train_end = int(splits[\"train\"] * n)\n",
        "    val_end = int((splits[\"train\"] + splits[\"val\"]) * n)\n",
        "\n",
        "    split_data = {\n",
        "        \"train\": image_paths[:train_end],\n",
        "        \"val\": image_paths[train_end:val_end],\n",
        "        \"test\": image_paths[val_end:],\n",
        "    }\n",
        "\n",
        "    # --- Step 4: Process and augment images ---\n",
        "    for split, imgs in split_data.items():\n",
        "        dest_dir = os.path.join(output_base, split, label_name)\n",
        "        for img_path in tqdm(imgs, desc=f\"{label_name} → {split}\"):\n",
        "            try:\n",
        "                with Image.open(img_path) as img:\n",
        "                    # --- Handle transparency ---\n",
        "                    if img.mode in (\"RGBA\", \"LA\"):\n",
        "                        bg = Image.new(\"RGB\", img.size, pad_color)\n",
        "                        bg.paste(img, mask=img.split()[-1])\n",
        "                        img = bg\n",
        "                    elif img.mode == \"P\":\n",
        "                        if \"transparency\" in img.info:\n",
        "                            try:\n",
        "                                alpha = img.convert(\"RGBA\")\n",
        "                                bg = Image.new(\"RGB\", img.size, pad_color)\n",
        "                                bg.paste(alpha, mask=alpha.split()[-1])\n",
        "                                img = bg\n",
        "                            except Exception:\n",
        "                                img = img.convert(\"RGB\")\n",
        "                        else:\n",
        "                            img = img.convert(\"RGB\")\n",
        "                    elif img.mode != \"RGB\":\n",
        "                        img = img.convert(\"RGB\")\n",
        "\n",
        "                    # --- Resize large images ---\n",
        "                    if max(img.size) > max_dim:\n",
        "                        img.thumbnail((max_dim, max_dim), Image.LANCZOS)\n",
        "\n",
        "                    # --- Pad to square ---\n",
        "                    img = pad_to_square(img, pad_color)\n",
        "\n",
        "                    # --- Save cleaned image ---\n",
        "                    base_name = os.path.basename(img_path).replace(\" \", \"_\")\n",
        "                    save_path = os.path.join(dest_dir, base_name)\n",
        "                    img.save(save_path, quality=95)\n",
        "\n",
        "                    # --- Augment training images ---\n",
        "                    if augment and split == \"train\":\n",
        "                        # Horizontal flip\n",
        "                        flipped = ImageOps.mirror(img)\n",
        "                        flipped.save(os.path.join(dest_dir, f\"flip_{base_name}\"), quality=95)\n",
        "\n",
        "                        # Vertical flip\n",
        "                        flipped_v = ImageOps.flip(img)\n",
        "                        flipped_v.save(os.path.join(dest_dir, f\"vflip_{base_name}\"), quality=95)\n",
        "\n",
        "                        # Small rotation\n",
        "                        angle = random.uniform(-15, 15)\n",
        "                        rotated = img.rotate(angle, expand=False, resample=Image.BICUBIC)\n",
        "                        rotated.save(os.path.join(dest_dir, f\"rot{int(angle)}_{base_name}\"), quality=95)\n",
        "\n",
        "            except Exception as e:\n",
        "                print(f\"⚠️ Skipping {img_path}: {e}\")\n",
        "\n",
        "print(\"\\n✅ Dataset prepared successfully in YOLO classification format!\")\n",
        "print(f\"📁 Output location: {output_base}\")"
      ],
      "metadata": {
        "id": "Xt0cEkQEMf5g",
        "outputId": "2394bdf3-ec15-4ae3-ec48-e2301f440627",
        "colab": {
          "base_uri": "https://localhost:8080/"
        }
      },
      "execution_count": 32,
      "outputs": [
        {
          "output_type": "stream",
          "name": "stdout",
          "text": [
            "Detected style classes: ['Cartoon Stylized', 'Hand Painted', 'Pixel Art', 'Vector Art']\n",
            "📂 Found 100 images for Cartoon_Stylized\n"
          ]
        },
        {
          "output_type": "stream",
          "name": "stderr",
          "text": [
            "Cartoon_Stylized → train:  47%|████▋     | 33/70 [01:13<01:40,  2.71s/it]"
          ]
        },
        {
          "output_type": "stream",
          "name": "stdout",
          "text": [
            "⚠️ Skipping /content/Styles_unzipped/Styles/Cartoon Stylized/Objects/cartoon_obj_24.png: image file is truncated\n"
          ]
        },
        {
          "output_type": "stream",
          "name": "stderr",
          "text": [
            "Cartoon_Stylized → train: 100%|██████████| 70/70 [02:07<00:00,  1.83s/it]\n",
            "Cartoon_Stylized → val: 100%|██████████| 19/19 [00:12<00:00,  1.51it/s]\n",
            "Cartoon_Stylized → test: 100%|██████████| 11/11 [00:07<00:00,  1.41it/s]\n"
          ]
        },
        {
          "output_type": "stream",
          "name": "stdout",
          "text": [
            "📂 Found 100 images for Hand_Painted\n"
          ]
        },
        {
          "output_type": "stream",
          "name": "stderr",
          "text": [
            "Hand_Painted → train: 100%|██████████| 70/70 [02:14<00:00,  1.92s/it]\n",
            "Hand_Painted → val: 100%|██████████| 19/19 [00:09<00:00,  1.96it/s]\n",
            "Hand_Painted → test: 100%|██████████| 11/11 [00:06<00:00,  1.67it/s]\n"
          ]
        },
        {
          "output_type": "stream",
          "name": "stdout",
          "text": [
            "📂 Found 100 images for Pixel_Art\n"
          ]
        },
        {
          "output_type": "stream",
          "name": "stderr",
          "text": [
            "Pixel_Art → train: 100%|██████████| 70/70 [00:16<00:00,  4.20it/s]\n",
            "Pixel_Art → val: 100%|██████████| 19/19 [00:01<00:00, 14.73it/s]\n",
            "Pixel_Art → test: 100%|██████████| 11/11 [00:00<00:00, 32.70it/s]\n"
          ]
        },
        {
          "output_type": "stream",
          "name": "stdout",
          "text": [
            "📂 Found 100 images for Vector_Art\n"
          ]
        },
        {
          "output_type": "stream",
          "name": "stderr",
          "text": [
            "Vector_Art → train: 100%|██████████| 70/70 [00:56<00:00,  1.24it/s]\n",
            "Vector_Art → val: 100%|██████████| 19/19 [00:04<00:00,  4.27it/s]\n",
            "Vector_Art → test: 100%|██████████| 11/11 [00:03<00:00,  3.52it/s]"
          ]
        },
        {
          "output_type": "stream",
          "name": "stdout",
          "text": [
            "\n",
            "✅ Dataset prepared successfully in YOLO classification format!\n",
            "📁 Output location: /content/asset_styles_yolo\n"
          ]
        },
        {
          "output_type": "stream",
          "name": "stderr",
          "text": [
            "\n"
          ]
        }
      ]
    },
    {
      "cell_type": "code",
      "source": [
        "# NEW CODE: OCT 29 (FIXED FOR BAD TRANSPARENCY MASK)\n",
        "import os\n",
        "import random\n",
        "from PIL import Image, ImageOps\n",
        "from tqdm import tqdm\n",
        "Image.MAX_IMAGE_PIXELS = None #to fix the large images\n",
        "# ImageFile.LOAD_TRUNCATED_IMAGES = True\n",
        "\n",
        "# --- CONFIG ---\n",
        "source_dir = \"/content/Styles_unzipped/Styles\"         # parent folder\n",
        "output_base = \"/content/asset_styles_yolo\"      # YOLO-ready dataset output\n",
        "splits = {\"train\": 0.7, \"val\": 0.2, \"test\": 0.1}\n",
        "augment = True  # enable data augmentation\n",
        "max_dim = 2048  # cap to avoid decompression bomb\n",
        "pad_color = (114, 114, 114)  # YOLO-style neutral padding\n",
        "\n",
        "# --- Step 1: Create split folders ---\n",
        "for split in splits.keys():\n",
        "    os.makedirs(os.path.join(output_base, split), exist_ok=True)\n",
        "\n",
        "# --- Step 2: Loop through style folders ---\n",
        "style_folders = [f for f in os.listdir(source_dir) if os.path.isdir(os.path.join(source_dir, f))]\n",
        "\n",
        "def pad_to_square(img, pad_color=(114, 114, 114)):\n",
        "    \"\"\"Pads non-square images to square shape without resizing.\"\"\"\n",
        "    w, h = img.size\n",
        "    size = max(w, h)\n",
        "    new_img = Image.new(\"RGB\", (size, size), pad_color)\n",
        "    new_img.paste(img, ((size - w) // 2, (size - h) // 2))\n",
        "    return new_img\n",
        "\n",
        "for style in style_folders:\n",
        "    style_path = os.path.join(source_dir, style)\n",
        "    label_name = style.replace(\" \", \"_\").replace(\"-\", \"_\")  # sanitize names\n",
        "\n",
        "    # Create subfolders for each split\n",
        "    for split in splits.keys():\n",
        "        os.makedirs(os.path.join(output_base, split, label_name), exist_ok=True)\n",
        "\n",
        "    # Gather all image paths\n",
        "    image_paths = []\n",
        "    for root, _, files in os.walk(style_path):\n",
        "        for f in files:\n",
        "            if f.lower().endswith((\".png\", \".jpg\", \".jpeg\")):\n",
        "                image_paths.append(os.path.join(root, f))\n",
        "\n",
        "    print(f\"📂 Found {len(image_paths)} images for {label_name}\")\n",
        "\n",
        "    # Shuffle and split\n",
        "    random.shuffle(image_paths)\n",
        "    n = len(image_paths)\n",
        "    train_end = int(splits[\"train\"] * n)\n",
        "    val_end = int((splits[\"train\"] + splits[\"val\"]) * n)\n",
        "\n",
        "    split_data = {\n",
        "        \"train\": image_paths[:train_end],\n",
        "        \"val\": image_paths[train_end:val_end],\n",
        "        \"test\": image_paths[val_end:]\n",
        "    }\n",
        "\n",
        "    # --- Step 3: Process and augment images ---\n",
        "    for split, imgs in split_data.items():\n",
        "        dest_dir = os.path.join(output_base, split, label_name)\n",
        "        for img_path in tqdm(imgs, desc=f\"{label_name} → {split}\"):\n",
        "            try:\n",
        "                with Image.open(img_path) as img:\n",
        "                    # --- FIXED TRANSPARENCY HANDLING ---\n",
        "                    if img.mode in (\"RGBA\", \"LA\"):\n",
        "                        # Handle true alpha channel\n",
        "                        bg = Image.new(\"RGB\", img.size, pad_color)\n",
        "                        bg.paste(img, mask=img.split()[-1])\n",
        "                        img = bg\n",
        "                    elif img.mode == \"P\":\n",
        "                        # Handle palette-based images safely\n",
        "                        if \"transparency\" in img.info:\n",
        "                            try:\n",
        "                                alpha = img.convert(\"RGBA\")\n",
        "                                bg = Image.new(\"RGB\", img.size, pad_color)\n",
        "                                bg.paste(alpha, mask=alpha.split()[-1])\n",
        "                                img = bg\n",
        "                            except Exception:\n",
        "                                img = img.convert(\"RGB\")  # fallback if transparency fails\n",
        "                        else:\n",
        "                            img = img.convert(\"RGB\")\n",
        "                    elif img.mode != \"RGB\":\n",
        "                        img = img.convert(\"RGB\")\n",
        "\n",
        "                    # --- Resize large images ---\n",
        "                    if max(img.size) > max_dim:\n",
        "                        img.thumbnail((max_dim, max_dim), Image.LANCZOS)\n",
        "\n",
        "                    # --- Pad to square (important for YOLO classification) ---\n",
        "                    img = pad_to_square(img, pad_color)\n",
        "\n",
        "                    # --- Save cleaned base image ---\n",
        "                    base_name = os.path.basename(img_path)\n",
        "                    base_name = base_name.replace(\" \", \"_\")  # clean filename\n",
        "                    save_path = os.path.join(dest_dir, base_name)\n",
        "                    img.save(save_path, quality=95)\n",
        "\n",
        "                    # --- Augmentation (train only) ---\n",
        "                    if augment and split == \"train\":\n",
        "                        # Horizontal Flip\n",
        "                        flipped = ImageOps.mirror(img)\n",
        "                        flipped.save(os.path.join(dest_dir, f\"flip_{base_name}\"), quality=95)\n",
        "\n",
        "                        # Vertical Flip\n",
        "                        flipped_v = ImageOps.flip(img)\n",
        "                        flipped_v.save(os.path.join(dest_dir, f\"vflip_{base_name}\"), quality=95)\n",
        "\n",
        "                        # Small Rotation (within safe bounds)\n",
        "                        angle = random.uniform(-15, 15)\n",
        "                        rotated = img.rotate(angle, expand=False, resample=Image.BICUBIC)\n",
        "                        rotated.save(os.path.join(dest_dir, f\"rot{int(angle)}_{base_name}\"), quality=95)\n",
        "\n",
        "            except Exception as e:\n",
        "                # If the image is corrupted or transparency fails, skip gracefully\n",
        "                print(f\"⚠️ Skipping {img_path}: {e}\")\n",
        "\n",
        "print(\"\\n✅ Dataset prepared successfully in YOLO classification format!\")\n",
        "print(f\"📁 Output location: {output_base}\")"
      ],
      "metadata": {
        "id": "b626xsLntC-J",
        "colab": {
          "base_uri": "https://localhost:8080/"
        },
        "outputId": "faea6f5d-561b-48d2-eede-59da266e275c"
      },
      "execution_count": 24,
      "outputs": [
        {
          "output_type": "stream",
          "name": "stdout",
          "text": [
            "📂 Found 100 images for Cartoon_Stylized\n"
          ]
        },
        {
          "output_type": "stream",
          "name": "stderr",
          "text": [
            "Cartoon_Stylized → train:  16%|█▌        | 11/70 [00:25<02:21,  2.40s/it]"
          ]
        },
        {
          "output_type": "stream",
          "name": "stdout",
          "text": [
            "⚠️ Skipping /content/Styles_unzipped/Styles/Cartoon Stylized/Objects/cartoon_obj_24.png: image file is truncated\n"
          ]
        },
        {
          "output_type": "stream",
          "name": "stderr",
          "text": [
            "Cartoon_Stylized → train: 100%|██████████| 70/70 [01:56<00:00,  1.67s/it]\n",
            "Cartoon_Stylized → val: 100%|██████████| 19/19 [00:12<00:00,  1.50it/s]\n",
            "Cartoon_Stylized → test: 100%|██████████| 11/11 [00:11<00:00,  1.05s/it]\n"
          ]
        },
        {
          "output_type": "stream",
          "name": "stdout",
          "text": [
            "📂 Found 100 images for Vector_Art\n"
          ]
        },
        {
          "output_type": "stream",
          "name": "stderr",
          "text": [
            "Vector_Art → train: 100%|██████████| 70/70 [00:56<00:00,  1.25it/s]\n",
            "Vector_Art → val: 100%|██████████| 19/19 [00:06<00:00,  3.13it/s]\n",
            "Vector_Art → test: 100%|██████████| 11/11 [00:03<00:00,  3.52it/s]\n"
          ]
        },
        {
          "output_type": "stream",
          "name": "stdout",
          "text": [
            "📂 Found 100 images for Pixel_Art\n"
          ]
        },
        {
          "output_type": "stream",
          "name": "stderr",
          "text": [
            "Pixel_Art → train: 100%|██████████| 70/70 [00:16<00:00,  4.37it/s]\n",
            "Pixel_Art → val: 100%|██████████| 19/19 [00:00<00:00, 23.22it/s]\n",
            "Pixel_Art → test: 100%|██████████| 11/11 [00:01<00:00,  5.66it/s]\n"
          ]
        },
        {
          "output_type": "stream",
          "name": "stdout",
          "text": [
            "📂 Found 100 images for Hand_Painted\n"
          ]
        },
        {
          "output_type": "stream",
          "name": "stderr",
          "text": [
            "Hand_Painted → train: 100%|██████████| 70/70 [02:16<00:00,  1.96s/it]\n",
            "Hand_Painted → val: 100%|██████████| 19/19 [00:09<00:00,  2.00it/s]\n",
            "Hand_Painted → test: 100%|██████████| 11/11 [00:06<00:00,  1.60it/s]"
          ]
        },
        {
          "output_type": "stream",
          "name": "stdout",
          "text": [
            "\n",
            "✅ Dataset prepared successfully in YOLO classification format!\n",
            "📁 Output location: /content/asset_styles_yolo\n"
          ]
        },
        {
          "output_type": "stream",
          "name": "stderr",
          "text": [
            "\n"
          ]
        }
      ]
    },
    {
      "cell_type": "code",
      "source": [
        "%pip install ultralytics\n",
        "import ultralytics\n",
        "ultralytics.checks()"
      ],
      "metadata": {
        "id": "CX_xD9nmiyWb",
        "outputId": "ea3b81b9-9eff-4899-a17c-3ec71861a854",
        "colab": {
          "base_uri": "https://localhost:8080/"
        }
      },
      "execution_count": 25,
      "outputs": [
        {
          "output_type": "stream",
          "name": "stdout",
          "text": [
            "Ultralytics 8.3.222 🚀 Python-3.12.12 torch-2.9.0+cu128 CUDA:0 (Tesla T4, 15095MiB)\n",
            "Setup complete ✅ (2 CPUs, 12.7 GB RAM, 49.4/112.6 GB disk)\n"
          ]
        }
      ]
    },
    {
      "cell_type": "code",
      "source": [
        "!pip install -U sympy==1.12\n",
        "!pip install -U torch torchvision torchaudio\n",
        "!pip install -U ultralytics"
      ],
      "metadata": {
        "colab": {
          "base_uri": "https://localhost:8080/",
          "height": 1000
        },
        "id": "vTR2D_S9vtTt",
        "outputId": "70265571-7e09-405f-9ffe-8776c6d1d598"
      },
      "execution_count": 37,
      "outputs": [
        {
          "output_type": "stream",
          "name": "stdout",
          "text": [
            "Collecting sympy==1.12\n",
            "  Using cached sympy-1.12-py3-none-any.whl.metadata (12 kB)\n",
            "Requirement already satisfied: mpmath>=0.19 in /usr/local/lib/python3.12/dist-packages (from sympy==1.12) (1.3.0)\n",
            "Using cached sympy-1.12-py3-none-any.whl (5.7 MB)\n",
            "Installing collected packages: sympy\n",
            "  Attempting uninstall: sympy\n",
            "    Found existing installation: sympy 1.14.0\n",
            "    Uninstalling sympy-1.14.0:\n",
            "      Successfully uninstalled sympy-1.14.0\n",
            "\u001b[31mERROR: pip's dependency resolver does not currently take into account all the packages that are installed. This behaviour is the source of the following dependency conflicts.\n",
            "torch 2.9.0 requires sympy>=1.13.3, but you have sympy 1.12 which is incompatible.\n",
            "fastai 2.8.4 requires torch<2.9,>=1.10, but you have torch 2.9.0 which is incompatible.\u001b[0m\u001b[31m\n",
            "\u001b[0mSuccessfully installed sympy-1.12\n"
          ]
        },
        {
          "output_type": "display_data",
          "data": {
            "application/vnd.colab-display-data+json": {
              "pip_warning": {
                "packages": [
                  "sympy"
                ]
              },
              "id": "c1c4f9e2ef9b483fbb7ac05fb9dea51a"
            }
          },
          "metadata": {}
        },
        {
          "output_type": "stream",
          "name": "stdout",
          "text": [
            "Requirement already satisfied: torch in /usr/local/lib/python3.12/dist-packages (2.9.0)\n",
            "Requirement already satisfied: torchvision in /usr/local/lib/python3.12/dist-packages (0.24.0)\n",
            "Requirement already satisfied: torchaudio in /usr/local/lib/python3.12/dist-packages (2.9.0)\n",
            "Requirement already satisfied: filelock in /usr/local/lib/python3.12/dist-packages (from torch) (3.20.0)\n",
            "Requirement already satisfied: typing-extensions>=4.10.0 in /usr/local/lib/python3.12/dist-packages (from torch) (4.15.0)\n",
            "Requirement already satisfied: setuptools in /usr/local/lib/python3.12/dist-packages (from torch) (75.2.0)\n",
            "Collecting sympy>=1.13.3 (from torch)\n",
            "  Using cached sympy-1.14.0-py3-none-any.whl.metadata (12 kB)\n",
            "Requirement already satisfied: networkx>=2.5.1 in /usr/local/lib/python3.12/dist-packages (from torch) (3.5)\n",
            "Requirement already satisfied: jinja2 in /usr/local/lib/python3.12/dist-packages (from torch) (3.1.6)\n",
            "Requirement already satisfied: fsspec>=0.8.5 in /usr/local/lib/python3.12/dist-packages (from torch) (2025.3.0)\n",
            "Requirement already satisfied: nvidia-cuda-nvrtc-cu12==12.8.93 in /usr/local/lib/python3.12/dist-packages (from torch) (12.8.93)\n",
            "Requirement already satisfied: nvidia-cuda-runtime-cu12==12.8.90 in /usr/local/lib/python3.12/dist-packages (from torch) (12.8.90)\n",
            "Requirement already satisfied: nvidia-cuda-cupti-cu12==12.8.90 in /usr/local/lib/python3.12/dist-packages (from torch) (12.8.90)\n",
            "Requirement already satisfied: nvidia-cudnn-cu12==9.10.2.21 in /usr/local/lib/python3.12/dist-packages (from torch) (9.10.2.21)\n",
            "Requirement already satisfied: nvidia-cublas-cu12==12.8.4.1 in /usr/local/lib/python3.12/dist-packages (from torch) (12.8.4.1)\n",
            "Requirement already satisfied: nvidia-cufft-cu12==11.3.3.83 in /usr/local/lib/python3.12/dist-packages (from torch) (11.3.3.83)\n",
            "Requirement already satisfied: nvidia-curand-cu12==10.3.9.90 in /usr/local/lib/python3.12/dist-packages (from torch) (10.3.9.90)\n",
            "Requirement already satisfied: nvidia-cusolver-cu12==11.7.3.90 in /usr/local/lib/python3.12/dist-packages (from torch) (11.7.3.90)\n",
            "Requirement already satisfied: nvidia-cusparse-cu12==12.5.8.93 in /usr/local/lib/python3.12/dist-packages (from torch) (12.5.8.93)\n",
            "Requirement already satisfied: nvidia-cusparselt-cu12==0.7.1 in /usr/local/lib/python3.12/dist-packages (from torch) (0.7.1)\n",
            "Requirement already satisfied: nvidia-nccl-cu12==2.27.5 in /usr/local/lib/python3.12/dist-packages (from torch) (2.27.5)\n",
            "Requirement already satisfied: nvidia-nvshmem-cu12==3.3.20 in /usr/local/lib/python3.12/dist-packages (from torch) (3.3.20)\n",
            "Requirement already satisfied: nvidia-nvtx-cu12==12.8.90 in /usr/local/lib/python3.12/dist-packages (from torch) (12.8.90)\n",
            "Requirement already satisfied: nvidia-nvjitlink-cu12==12.8.93 in /usr/local/lib/python3.12/dist-packages (from torch) (12.8.93)\n",
            "Requirement already satisfied: nvidia-cufile-cu12==1.13.1.3 in /usr/local/lib/python3.12/dist-packages (from torch) (1.13.1.3)\n",
            "Requirement already satisfied: triton==3.5.0 in /usr/local/lib/python3.12/dist-packages (from torch) (3.5.0)\n",
            "Requirement already satisfied: numpy in /usr/local/lib/python3.12/dist-packages (from torchvision) (2.0.2)\n",
            "Requirement already satisfied: pillow!=8.3.*,>=5.3.0 in /usr/local/lib/python3.12/dist-packages (from torchvision) (11.3.0)\n",
            "Requirement already satisfied: mpmath<1.4,>=1.1.0 in /usr/local/lib/python3.12/dist-packages (from sympy>=1.13.3->torch) (1.3.0)\n",
            "Requirement already satisfied: MarkupSafe>=2.0 in /usr/local/lib/python3.12/dist-packages (from jinja2->torch) (3.0.3)\n",
            "Using cached sympy-1.14.0-py3-none-any.whl (6.3 MB)\n",
            "Installing collected packages: sympy\n",
            "  Attempting uninstall: sympy\n",
            "    Found existing installation: sympy 1.12\n",
            "    Uninstalling sympy-1.12:\n",
            "      Successfully uninstalled sympy-1.12\n",
            "\u001b[31mERROR: pip's dependency resolver does not currently take into account all the packages that are installed. This behaviour is the source of the following dependency conflicts.\n",
            "fastai 2.8.4 requires torch<2.9,>=1.10, but you have torch 2.9.0 which is incompatible.\u001b[0m\u001b[31m\n",
            "\u001b[0mSuccessfully installed sympy-1.14.0\n"
          ]
        },
        {
          "output_type": "display_data",
          "data": {
            "application/vnd.colab-display-data+json": {
              "pip_warning": {
                "packages": [
                  "sympy"
                ]
              },
              "id": "64431b1e3b1b48caac07368fa55154a6"
            }
          },
          "metadata": {}
        },
        {
          "output_type": "stream",
          "name": "stdout",
          "text": [
            "Requirement already satisfied: ultralytics in /usr/local/lib/python3.12/dist-packages (8.3.222)\n",
            "Requirement already satisfied: numpy>=1.23.0 in /usr/local/lib/python3.12/dist-packages (from ultralytics) (2.0.2)\n",
            "Requirement already satisfied: matplotlib>=3.3.0 in /usr/local/lib/python3.12/dist-packages (from ultralytics) (3.10.0)\n",
            "Requirement already satisfied: opencv-python>=4.6.0 in /usr/local/lib/python3.12/dist-packages (from ultralytics) (4.12.0.88)\n",
            "Requirement already satisfied: pillow>=7.1.2 in /usr/local/lib/python3.12/dist-packages (from ultralytics) (11.3.0)\n",
            "Requirement already satisfied: pyyaml>=5.3.1 in /usr/local/lib/python3.12/dist-packages (from ultralytics) (6.0.3)\n",
            "Requirement already satisfied: requests>=2.23.0 in /usr/local/lib/python3.12/dist-packages (from ultralytics) (2.32.4)\n",
            "Requirement already satisfied: scipy>=1.4.1 in /usr/local/lib/python3.12/dist-packages (from ultralytics) (1.16.2)\n",
            "Requirement already satisfied: torch>=1.8.0 in /usr/local/lib/python3.12/dist-packages (from ultralytics) (2.9.0)\n",
            "Requirement already satisfied: torchvision>=0.9.0 in /usr/local/lib/python3.12/dist-packages (from ultralytics) (0.24.0)\n",
            "Requirement already satisfied: psutil in /usr/local/lib/python3.12/dist-packages (from ultralytics) (5.9.5)\n",
            "Requirement already satisfied: polars in /usr/local/lib/python3.12/dist-packages (from ultralytics) (1.25.2)\n",
            "Requirement already satisfied: ultralytics-thop>=2.0.0 in /usr/local/lib/python3.12/dist-packages (from ultralytics) (2.0.18)\n",
            "Requirement already satisfied: contourpy>=1.0.1 in /usr/local/lib/python3.12/dist-packages (from matplotlib>=3.3.0->ultralytics) (1.3.3)\n",
            "Requirement already satisfied: cycler>=0.10 in /usr/local/lib/python3.12/dist-packages (from matplotlib>=3.3.0->ultralytics) (0.12.1)\n",
            "Requirement already satisfied: fonttools>=4.22.0 in /usr/local/lib/python3.12/dist-packages (from matplotlib>=3.3.0->ultralytics) (4.60.1)\n",
            "Requirement already satisfied: kiwisolver>=1.3.1 in /usr/local/lib/python3.12/dist-packages (from matplotlib>=3.3.0->ultralytics) (1.4.9)\n",
            "Requirement already satisfied: packaging>=20.0 in /usr/local/lib/python3.12/dist-packages (from matplotlib>=3.3.0->ultralytics) (25.0)\n",
            "Requirement already satisfied: pyparsing>=2.3.1 in /usr/local/lib/python3.12/dist-packages (from matplotlib>=3.3.0->ultralytics) (3.2.5)\n",
            "Requirement already satisfied: python-dateutil>=2.7 in /usr/local/lib/python3.12/dist-packages (from matplotlib>=3.3.0->ultralytics) (2.9.0.post0)\n",
            "Requirement already satisfied: charset_normalizer<4,>=2 in /usr/local/lib/python3.12/dist-packages (from requests>=2.23.0->ultralytics) (3.4.4)\n",
            "Requirement already satisfied: idna<4,>=2.5 in /usr/local/lib/python3.12/dist-packages (from requests>=2.23.0->ultralytics) (3.11)\n",
            "Requirement already satisfied: urllib3<3,>=1.21.1 in /usr/local/lib/python3.12/dist-packages (from requests>=2.23.0->ultralytics) (2.5.0)\n",
            "Requirement already satisfied: certifi>=2017.4.17 in /usr/local/lib/python3.12/dist-packages (from requests>=2.23.0->ultralytics) (2025.10.5)\n",
            "Requirement already satisfied: filelock in /usr/local/lib/python3.12/dist-packages (from torch>=1.8.0->ultralytics) (3.20.0)\n",
            "Requirement already satisfied: typing-extensions>=4.10.0 in /usr/local/lib/python3.12/dist-packages (from torch>=1.8.0->ultralytics) (4.15.0)\n",
            "Requirement already satisfied: setuptools in /usr/local/lib/python3.12/dist-packages (from torch>=1.8.0->ultralytics) (75.2.0)\n",
            "Requirement already satisfied: sympy>=1.13.3 in /usr/local/lib/python3.12/dist-packages (from torch>=1.8.0->ultralytics) (1.14.0)\n",
            "Requirement already satisfied: networkx>=2.5.1 in /usr/local/lib/python3.12/dist-packages (from torch>=1.8.0->ultralytics) (3.5)\n",
            "Requirement already satisfied: jinja2 in /usr/local/lib/python3.12/dist-packages (from torch>=1.8.0->ultralytics) (3.1.6)\n",
            "Requirement already satisfied: fsspec>=0.8.5 in /usr/local/lib/python3.12/dist-packages (from torch>=1.8.0->ultralytics) (2025.3.0)\n",
            "Requirement already satisfied: nvidia-cuda-nvrtc-cu12==12.8.93 in /usr/local/lib/python3.12/dist-packages (from torch>=1.8.0->ultralytics) (12.8.93)\n",
            "Requirement already satisfied: nvidia-cuda-runtime-cu12==12.8.90 in /usr/local/lib/python3.12/dist-packages (from torch>=1.8.0->ultralytics) (12.8.90)\n",
            "Requirement already satisfied: nvidia-cuda-cupti-cu12==12.8.90 in /usr/local/lib/python3.12/dist-packages (from torch>=1.8.0->ultralytics) (12.8.90)\n",
            "Requirement already satisfied: nvidia-cudnn-cu12==9.10.2.21 in /usr/local/lib/python3.12/dist-packages (from torch>=1.8.0->ultralytics) (9.10.2.21)\n",
            "Requirement already satisfied: nvidia-cublas-cu12==12.8.4.1 in /usr/local/lib/python3.12/dist-packages (from torch>=1.8.0->ultralytics) (12.8.4.1)\n",
            "Requirement already satisfied: nvidia-cufft-cu12==11.3.3.83 in /usr/local/lib/python3.12/dist-packages (from torch>=1.8.0->ultralytics) (11.3.3.83)\n",
            "Requirement already satisfied: nvidia-curand-cu12==10.3.9.90 in /usr/local/lib/python3.12/dist-packages (from torch>=1.8.0->ultralytics) (10.3.9.90)\n",
            "Requirement already satisfied: nvidia-cusolver-cu12==11.7.3.90 in /usr/local/lib/python3.12/dist-packages (from torch>=1.8.0->ultralytics) (11.7.3.90)\n",
            "Requirement already satisfied: nvidia-cusparse-cu12==12.5.8.93 in /usr/local/lib/python3.12/dist-packages (from torch>=1.8.0->ultralytics) (12.5.8.93)\n",
            "Requirement already satisfied: nvidia-cusparselt-cu12==0.7.1 in /usr/local/lib/python3.12/dist-packages (from torch>=1.8.0->ultralytics) (0.7.1)\n",
            "Requirement already satisfied: nvidia-nccl-cu12==2.27.5 in /usr/local/lib/python3.12/dist-packages (from torch>=1.8.0->ultralytics) (2.27.5)\n",
            "Requirement already satisfied: nvidia-nvshmem-cu12==3.3.20 in /usr/local/lib/python3.12/dist-packages (from torch>=1.8.0->ultralytics) (3.3.20)\n",
            "Requirement already satisfied: nvidia-nvtx-cu12==12.8.90 in /usr/local/lib/python3.12/dist-packages (from torch>=1.8.0->ultralytics) (12.8.90)\n",
            "Requirement already satisfied: nvidia-nvjitlink-cu12==12.8.93 in /usr/local/lib/python3.12/dist-packages (from torch>=1.8.0->ultralytics) (12.8.93)\n",
            "Requirement already satisfied: nvidia-cufile-cu12==1.13.1.3 in /usr/local/lib/python3.12/dist-packages (from torch>=1.8.0->ultralytics) (1.13.1.3)\n",
            "Requirement already satisfied: triton==3.5.0 in /usr/local/lib/python3.12/dist-packages (from torch>=1.8.0->ultralytics) (3.5.0)\n",
            "Requirement already satisfied: six>=1.5 in /usr/local/lib/python3.12/dist-packages (from python-dateutil>=2.7->matplotlib>=3.3.0->ultralytics) (1.17.0)\n",
            "Requirement already satisfied: mpmath<1.4,>=1.1.0 in /usr/local/lib/python3.12/dist-packages (from sympy>=1.13.3->torch>=1.8.0->ultralytics) (1.3.0)\n",
            "Requirement already satisfied: MarkupSafe>=2.0 in /usr/local/lib/python3.12/dist-packages (from jinja2->torch>=1.8.0->ultralytics) (3.0.3)\n",
            "Traceback (most recent call last):\n",
            "  File \"/usr/local/lib/python3.12/dist-packages/pip/_internal/cli/base_command.py\", line 179, in exc_logging_wrapper\n",
            "    status = run_func(*args)\n",
            "             ^^^^^^^^^^^^^^^\n",
            "  File \"/usr/local/lib/python3.12/dist-packages/pip/_internal/cli/req_command.py\", line 67, in wrapper\n",
            "    return func(self, options, args)\n",
            "           ^^^^^^^^^^^^^^^^^^^^^^^^^\n",
            "  File \"/usr/local/lib/python3.12/dist-packages/pip/_internal/commands/install.py\", line 447, in run\n",
            "    conflicts = self._determine_conflicts(to_install)\n",
            "                ^^^^^^^^^^^^^^^^^^^^^^^^^^^^^^^^^^^^^\n",
            "  File \"/usr/local/lib/python3.12/dist-packages/pip/_internal/commands/install.py\", line 578, in _determine_conflicts\n",
            "    return check_install_conflicts(to_install)\n",
            "           ^^^^^^^^^^^^^^^^^^^^^^^^^^^^^^^^^^^\n",
            "  File \"/usr/local/lib/python3.12/dist-packages/pip/_internal/operations/check.py\", line 101, in check_install_conflicts\n",
            "    package_set, _ = create_package_set_from_installed()\n",
            "                     ^^^^^^^^^^^^^^^^^^^^^^^^^^^^^^^^^^^\n",
            "  File \"/usr/local/lib/python3.12/dist-packages/pip/_internal/operations/check.py\", line 39, in create_package_set_from_installed\n",
            "    for dist in env.iter_installed_distributions(local_only=False, skip=()):\n",
            "^C\n"
          ]
        }
      ]
    },
    {
      "cell_type": "code",
      "source": [
        "from ultralytics import YOLO\n",
        "\n",
        "model = YOLO(\"yolo11n-cls.pt\")  # pretrained classification model\n",
        "results = model.train(\n",
        "    data=\"/content/asset_styles_yolo\",\n",
        "    epochs=50,\n",
        "    imgsz=224,\n",
        "    batch=8,\n",
        "    lr0=0.001,\n",
        "    weight_decay=0.0005,\n",
        ")"
      ],
      "metadata": {
        "colab": {
          "base_uri": "https://localhost:8080/"
        },
        "id": "8NxDoh9Fu3d5",
        "outputId": "d8532ce6-eae6-409d-f246-8ca4a655f20d"
      },
      "execution_count": 33,
      "outputs": [
        {
          "output_type": "stream",
          "name": "stdout",
          "text": [
            "\u001b[KDownloading https://github.com/ultralytics/assets/releases/download/v8.3.0/yolo11n-cls.pt to 'yolo11n-cls.pt': 100% ━━━━━━━━━━━━ 5.5MB 69.8MB/s 0.1s\n",
            "Ultralytics 8.3.222 🚀 Python-3.12.12 torch-2.9.0+cu128 CUDA:0 (Tesla T4, 15095MiB)\n",
            "\u001b[34m\u001b[1mengine/trainer: \u001b[0magnostic_nms=False, amp=True, augment=False, auto_augment=randaugment, batch=8, bgr=0.0, box=7.5, cache=False, cfg=None, classes=None, close_mosaic=10, cls=0.5, compile=False, conf=None, copy_paste=0.0, copy_paste_mode=flip, cos_lr=False, cutmix=0.0, data=/content/asset_styles_yolo, degrees=0.0, deterministic=True, device=None, dfl=1.5, dnn=False, dropout=0.0, dynamic=False, embed=None, epochs=50, erasing=0.4, exist_ok=False, fliplr=0.5, flipud=0.0, format=torchscript, fraction=1.0, freeze=None, half=False, hsv_h=0.015, hsv_s=0.7, hsv_v=0.4, imgsz=224, int8=False, iou=0.7, keras=False, kobj=1.0, line_width=None, lr0=0.001, lrf=0.01, mask_ratio=4, max_det=300, mixup=0.0, mode=train, model=yolo11n-cls.pt, momentum=0.937, mosaic=1.0, multi_scale=False, name=train, nbs=64, nms=False, opset=None, optimize=False, optimizer=auto, overlap_mask=True, patience=100, perspective=0.0, plots=True, pose=12.0, pretrained=True, profile=False, project=None, rect=False, resume=False, retina_masks=False, save=True, save_conf=False, save_crop=False, save_dir=/content/runs/classify/train, save_frames=False, save_json=False, save_period=-1, save_txt=False, scale=0.5, seed=0, shear=0.0, show=False, show_boxes=True, show_conf=True, show_labels=True, simplify=True, single_cls=False, source=None, split=val, stream_buffer=False, task=classify, time=None, tracker=botsort.yaml, translate=0.1, val=True, verbose=True, vid_stride=1, visualize=False, warmup_bias_lr=0.1, warmup_epochs=3.0, warmup_momentum=0.8, weight_decay=0.0005, workers=8, workspace=None\n",
            "\u001b[34m\u001b[1mtrain:\u001b[0m /content/asset_styles_yolo/train... found 1116 images in 4 classes ✅ \n",
            "\u001b[34m\u001b[1mval:\u001b[0m /content/asset_styles_yolo/val... found 76 images in 4 classes ✅ \n",
            "\u001b[34m\u001b[1mtest:\u001b[0m /content/asset_styles_yolo/test... found 44 images in 4 classes ✅ \n",
            "Overriding model.yaml nc=80 with nc=4\n",
            "\n",
            "                   from  n    params  module                                       arguments                     \n",
            "  0                  -1  1       464  ultralytics.nn.modules.conv.Conv             [3, 16, 3, 2]                 \n",
            "  1                  -1  1      4672  ultralytics.nn.modules.conv.Conv             [16, 32, 3, 2]                \n",
            "  2                  -1  1      6640  ultralytics.nn.modules.block.C3k2            [32, 64, 1, False, 0.25]      \n",
            "  3                  -1  1     36992  ultralytics.nn.modules.conv.Conv             [64, 64, 3, 2]                \n",
            "  4                  -1  1     26080  ultralytics.nn.modules.block.C3k2            [64, 128, 1, False, 0.25]     \n",
            "  5                  -1  1    147712  ultralytics.nn.modules.conv.Conv             [128, 128, 3, 2]              \n",
            "  6                  -1  1     87040  ultralytics.nn.modules.block.C3k2            [128, 128, 1, True]           \n",
            "  7                  -1  1    295424  ultralytics.nn.modules.conv.Conv             [128, 256, 3, 2]              \n",
            "  8                  -1  1    346112  ultralytics.nn.modules.block.C3k2            [256, 256, 1, True]           \n",
            "  9                  -1  1    249728  ultralytics.nn.modules.block.C2PSA           [256, 256, 1]                 \n",
            " 10                  -1  1    335364  ultralytics.nn.modules.head.Classify         [256, 4]                      \n",
            "YOLO11n-cls summary: 86 layers, 1,536,228 parameters, 1,536,228 gradients, 3.3 GFLOPs\n",
            "Transferred 234/236 items from pretrained weights\n",
            "\u001b[34m\u001b[1mAMP: \u001b[0mrunning Automatic Mixed Precision (AMP) checks...\n",
            "\u001b[KDownloading https://github.com/ultralytics/assets/releases/download/v8.3.0/yolo11n.pt to 'yolo11n.pt': 100% ━━━━━━━━━━━━ 5.4MB 69.5MB/s 0.1s\n",
            "\u001b[34m\u001b[1mAMP: \u001b[0mchecks passed ✅\n",
            "\u001b[34m\u001b[1mtrain: \u001b[0mFast image access ✅ (ping: 0.0±0.0 ms, read: 2234.4±654.6 MB/s, size: 266.1 KB)\n",
            "\u001b[K\u001b[34m\u001b[1mtrain: \u001b[0mScanning /content/asset_styles_yolo/train... 1116 images, 0 corrupt: 100% ━━━━━━━━━━━━ 1116/1116 1.5Kit/s 0.7s\n",
            "\u001b[34m\u001b[1mtrain: \u001b[0mNew cache created: /content/asset_styles_yolo/train.cache\n",
            "\u001b[34m\u001b[1mval: \u001b[0mFast image access ✅ (ping: 0.0±0.0 ms, read: 442.3±283.3 MB/s, size: 252.6 KB)\n",
            "\u001b[K\u001b[34m\u001b[1mval: \u001b[0mScanning /content/asset_styles_yolo/val... 76 images, 0 corrupt: 100% ━━━━━━━━━━━━ 76/76 679.9it/s 0.1s\n",
            "\u001b[34m\u001b[1mval: \u001b[0mNew cache created: /content/asset_styles_yolo/val.cache\n",
            "\u001b[34m\u001b[1moptimizer:\u001b[0m 'optimizer=auto' found, ignoring 'lr0=0.001' and 'momentum=0.937' and determining best 'optimizer', 'lr0' and 'momentum' automatically... \n",
            "\u001b[34m\u001b[1moptimizer:\u001b[0m AdamW(lr=0.00125, momentum=0.9) with parameter groups 39 weight(decay=0.0), 40 weight(decay=0.0005), 40 bias(decay=0.0)\n",
            "Image sizes 224 train, 224 val\n",
            "Using 2 dataloader workers\n",
            "Logging results to \u001b[1m/content/runs/classify/train\u001b[0m\n",
            "Starting training for 50 epochs...\n",
            "\n",
            "      Epoch    GPU_mem       loss  Instances       Size\n",
            "\u001b[K       1/50     0.389G      1.162          4        224: 100% ━━━━━━━━━━━━ 140/140 2.4it/s 58.0s\n",
            "\u001b[K               classes   top1_acc   top5_acc: 100% ━━━━━━━━━━━━ 5/5 42.6it/s 0.1s\n",
            "                   all      0.513          1\n",
            "\n",
            "      Epoch    GPU_mem       loss  Instances       Size\n",
            "\u001b[K       2/50     0.389G     0.7886          4        224: 100% ━━━━━━━━━━━━ 140/140 2.8it/s 49.7s\n",
            "\u001b[K               classes   top1_acc   top5_acc: 100% ━━━━━━━━━━━━ 5/5 25.0it/s 0.2s\n",
            "                   all      0.618          1\n",
            "\n",
            "      Epoch    GPU_mem       loss  Instances       Size\n",
            "\u001b[K       3/50     0.389G      0.629          4        224: 100% ━━━━━━━━━━━━ 140/140 2.7it/s 51.0s\n",
            "\u001b[K               classes   top1_acc   top5_acc: 100% ━━━━━━━━━━━━ 5/5 17.0it/s 0.3s\n",
            "                   all      0.632          1\n",
            "\n",
            "      Epoch    GPU_mem       loss  Instances       Size\n",
            "\u001b[K       4/50     0.389G     0.6515          4        224: 100% ━━━━━━━━━━━━ 140/140 2.8it/s 50.4s\n",
            "\u001b[K               classes   top1_acc   top5_acc: 100% ━━━━━━━━━━━━ 5/5 17.5it/s 0.3s\n",
            "                   all      0.579          1\n",
            "\n",
            "      Epoch    GPU_mem       loss  Instances       Size\n",
            "\u001b[K       5/50     0.389G     0.6413          4        224: 100% ━━━━━━━━━━━━ 140/140 2.9it/s 48.9s\n",
            "\u001b[K               classes   top1_acc   top5_acc: 100% ━━━━━━━━━━━━ 5/5 20.5it/s 0.2s\n",
            "                   all      0.605          1\n",
            "\n",
            "      Epoch    GPU_mem       loss  Instances       Size\n",
            "\u001b[K       6/50     0.389G     0.6021          4        224: 100% ━━━━━━━━━━━━ 140/140 2.8it/s 50.1s\n",
            "\u001b[K               classes   top1_acc   top5_acc: 100% ━━━━━━━━━━━━ 5/5 32.8it/s 0.2s\n",
            "                   all      0.579          1\n",
            "\n",
            "      Epoch    GPU_mem       loss  Instances       Size\n",
            "\u001b[K       7/50     0.389G     0.5079          4        224: 100% ━━━━━━━━━━━━ 140/140 2.8it/s 50.2s\n",
            "\u001b[K               classes   top1_acc   top5_acc: 100% ━━━━━━━━━━━━ 5/5 30.7it/s 0.2s\n",
            "                   all      0.618          1\n",
            "\n",
            "      Epoch    GPU_mem       loss  Instances       Size\n",
            "\u001b[K       8/50     0.393G     0.4657          4        224: 100% ━━━━━━━━━━━━ 140/140 2.8it/s 50.7s\n",
            "\u001b[K               classes   top1_acc   top5_acc: 100% ━━━━━━━━━━━━ 5/5 24.7it/s 0.2s\n",
            "                   all      0.605          1\n",
            "\n",
            "      Epoch    GPU_mem       loss  Instances       Size\n",
            "\u001b[K       9/50       0.4G     0.4486          4        224: 100% ━━━━━━━━━━━━ 140/140 2.8it/s 50.5s\n",
            "\u001b[K               classes   top1_acc   top5_acc: 100% ━━━━━━━━━━━━ 5/5 23.6it/s 0.2s\n",
            "                   all      0.605          1\n",
            "\n",
            "      Epoch    GPU_mem       loss  Instances       Size\n",
            "\u001b[K      10/50      0.41G     0.4344          4        224: 100% ━━━━━━━━━━━━ 140/140 2.8it/s 49.9s\n",
            "\u001b[K               classes   top1_acc   top5_acc: 100% ━━━━━━━━━━━━ 5/5 29.3it/s 0.2s\n",
            "                   all      0.618          1\n",
            "\n",
            "      Epoch    GPU_mem       loss  Instances       Size\n",
            "\u001b[K      11/50     0.418G     0.3819          4        224: 100% ━━━━━━━━━━━━ 140/140 2.7it/s 51.7s\n",
            "\u001b[K               classes   top1_acc   top5_acc: 100% ━━━━━━━━━━━━ 5/5 24.2it/s 0.2s\n",
            "                   all      0.592          1\n",
            "\n",
            "      Epoch    GPU_mem       loss  Instances       Size\n",
            "\u001b[K      12/50     0.428G     0.3678          4        224: 100% ━━━━━━━━━━━━ 140/140 2.8it/s 49.9s\n",
            "\u001b[K               classes   top1_acc   top5_acc: 100% ━━━━━━━━━━━━ 5/5 23.7it/s 0.2s\n",
            "                   all      0.658          1\n",
            "\n",
            "      Epoch    GPU_mem       loss  Instances       Size\n",
            "\u001b[K      13/50     0.436G     0.3509          4        224: 100% ━━━━━━━━━━━━ 140/140 2.8it/s 50.6s\n",
            "\u001b[K               classes   top1_acc   top5_acc: 100% ━━━━━━━━━━━━ 5/5 26.0it/s 0.2s\n",
            "                   all      0.592          1\n",
            "\n",
            "      Epoch    GPU_mem       loss  Instances       Size\n",
            "\u001b[K      14/50     0.443G      0.293          4        224: 100% ━━━━━━━━━━━━ 140/140 2.8it/s 50.5s\n",
            "\u001b[K               classes   top1_acc   top5_acc: 100% ━━━━━━━━━━━━ 5/5 33.8it/s 0.1s\n",
            "                   all      0.658          1\n",
            "\n",
            "      Epoch    GPU_mem       loss  Instances       Size\n",
            "\u001b[K      15/50     0.453G     0.3359          4        224: 100% ━━━━━━━━━━━━ 140/140 2.8it/s 50.8s\n",
            "\u001b[K               classes   top1_acc   top5_acc: 100% ━━━━━━━━━━━━ 5/5 23.4it/s 0.2s\n",
            "                   all      0.618          1\n",
            "\n",
            "      Epoch    GPU_mem       loss  Instances       Size\n",
            "\u001b[K      16/50     0.461G     0.2908          4        224: 100% ━━━━━━━━━━━━ 140/140 2.8it/s 50.4s\n",
            "\u001b[K               classes   top1_acc   top5_acc: 100% ━━━━━━━━━━━━ 5/5 24.4it/s 0.2s\n",
            "                   all      0.579          1\n",
            "\n",
            "      Epoch    GPU_mem       loss  Instances       Size\n",
            "\u001b[K      17/50     0.471G      0.258          4        224: 100% ━━━━━━━━━━━━ 140/140 2.8it/s 50.6s\n",
            "\u001b[K               classes   top1_acc   top5_acc: 100% ━━━━━━━━━━━━ 5/5 28.7it/s 0.2s\n",
            "                   all      0.605          1\n",
            "\n",
            "      Epoch    GPU_mem       loss  Instances       Size\n",
            "\u001b[K      18/50     0.479G     0.2515          4        224: 100% ━━━━━━━━━━━━ 140/140 2.8it/s 50.4s\n",
            "\u001b[K               classes   top1_acc   top5_acc: 100% ━━━━━━━━━━━━ 5/5 19.4it/s 0.3s\n",
            "                   all      0.579          1\n",
            "\n",
            "      Epoch    GPU_mem       loss  Instances       Size\n",
            "\u001b[K      19/50     0.488G     0.2942          4        224: 100% ━━━━━━━━━━━━ 140/140 2.8it/s 50.1s\n",
            "\u001b[K               classes   top1_acc   top5_acc: 100% ━━━━━━━━━━━━ 5/5 18.0it/s 0.3s\n",
            "                   all      0.632          1\n",
            "\n",
            "      Epoch    GPU_mem       loss  Instances       Size\n",
            "\u001b[K      20/50     0.496G     0.2118          4        224: 100% ━━━━━━━━━━━━ 140/140 2.8it/s 50.4s\n",
            "\u001b[K               classes   top1_acc   top5_acc: 100% ━━━━━━━━━━━━ 5/5 17.0it/s 0.3s\n",
            "                   all      0.632          1\n",
            "\n",
            "      Epoch    GPU_mem       loss  Instances       Size\n",
            "\u001b[K      21/50     0.506G     0.2105          4        224: 100% ━━━━━━━━━━━━ 140/140 2.8it/s 50.0s\n",
            "\u001b[K               classes   top1_acc   top5_acc: 100% ━━━━━━━━━━━━ 5/5 30.5it/s 0.2s\n",
            "                   all      0.618          1\n",
            "\n",
            "      Epoch    GPU_mem       loss  Instances       Size\n",
            "\u001b[K      22/50     0.514G     0.1963          4        224: 100% ━━━━━━━━━━━━ 140/140 2.8it/s 50.2s\n",
            "\u001b[K               classes   top1_acc   top5_acc: 100% ━━━━━━━━━━━━ 5/5 24.0it/s 0.2s\n",
            "                   all      0.618          1\n",
            "\n",
            "      Epoch    GPU_mem       loss  Instances       Size\n",
            "\u001b[K      23/50     0.523G     0.2141          4        224: 100% ━━━━━━━━━━━━ 140/140 2.7it/s 51.5s\n",
            "\u001b[K               classes   top1_acc   top5_acc: 100% ━━━━━━━━━━━━ 5/5 26.2it/s 0.2s\n",
            "                   all      0.632          1\n",
            "\n",
            "      Epoch    GPU_mem       loss  Instances       Size\n",
            "\u001b[K      24/50     0.531G     0.1969          4        224: 100% ━━━━━━━━━━━━ 140/140 2.8it/s 50.9s\n",
            "\u001b[K               classes   top1_acc   top5_acc: 100% ━━━━━━━━━━━━ 5/5 32.9it/s 0.2s\n",
            "                   all      0.658          1\n",
            "\n",
            "      Epoch    GPU_mem       loss  Instances       Size\n",
            "\u001b[K      25/50     0.541G     0.2058          4        224: 100% ━━━━━━━━━━━━ 140/140 2.8it/s 50.4s\n",
            "\u001b[K               classes   top1_acc   top5_acc: 100% ━━━━━━━━━━━━ 5/5 18.3it/s 0.3s\n",
            "                   all      0.645          1\n",
            "\n",
            "      Epoch    GPU_mem       loss  Instances       Size\n",
            "\u001b[K      26/50     0.549G     0.1955          4        224: 100% ━━━━━━━━━━━━ 140/140 2.8it/s 50.1s\n",
            "\u001b[K               classes   top1_acc   top5_acc: 100% ━━━━━━━━━━━━ 5/5 22.6it/s 0.2s\n",
            "                   all      0.632          1\n",
            "\n",
            "      Epoch    GPU_mem       loss  Instances       Size\n",
            "\u001b[K      27/50     0.557G     0.1573          4        224: 100% ━━━━━━━━━━━━ 140/140 2.7it/s 51.5s\n",
            "\u001b[K               classes   top1_acc   top5_acc: 100% ━━━━━━━━━━━━ 5/5 25.0it/s 0.2s\n",
            "                   all      0.632          1\n",
            "\n",
            "      Epoch    GPU_mem       loss  Instances       Size\n",
            "\u001b[K      28/50     0.566G     0.1455          4        224: 100% ━━━━━━━━━━━━ 140/140 2.7it/s 51.3s\n",
            "\u001b[K               classes   top1_acc   top5_acc: 100% ━━━━━━━━━━━━ 5/5 26.9it/s 0.2s\n",
            "                   all      0.645          1\n",
            "\n",
            "      Epoch    GPU_mem       loss  Instances       Size\n",
            "\u001b[K      29/50     0.574G     0.1312          4        224: 100% ━━━━━━━━━━━━ 140/140 2.7it/s 51.0s\n",
            "\u001b[K               classes   top1_acc   top5_acc: 100% ━━━━━━━━━━━━ 5/5 25.4it/s 0.2s\n",
            "                   all      0.605          1\n",
            "\n",
            "      Epoch    GPU_mem       loss  Instances       Size\n",
            "\u001b[K      30/50     0.584G     0.1327          4        224: 100% ━━━━━━━━━━━━ 140/140 2.8it/s 50.6s\n",
            "\u001b[K               classes   top1_acc   top5_acc: 100% ━━━━━━━━━━━━ 5/5 23.0it/s 0.2s\n",
            "                   all      0.605          1\n",
            "\n",
            "      Epoch    GPU_mem       loss  Instances       Size\n",
            "\u001b[K      31/50     0.592G      0.152          4        224: 100% ━━━━━━━━━━━━ 140/140 2.8it/s 49.5s\n",
            "\u001b[K               classes   top1_acc   top5_acc: 100% ━━━━━━━━━━━━ 5/5 18.0it/s 0.3s\n",
            "                   all      0.579          1\n",
            "\n",
            "      Epoch    GPU_mem       loss  Instances       Size\n",
            "\u001b[K      32/50     0.602G    0.09387          4        224: 100% ━━━━━━━━━━━━ 140/140 2.8it/s 50.5s\n",
            "\u001b[K               classes   top1_acc   top5_acc: 100% ━━━━━━━━━━━━ 5/5 18.3it/s 0.3s\n",
            "                   all      0.579          1\n",
            "\n",
            "      Epoch    GPU_mem       loss  Instances       Size\n",
            "\u001b[K      33/50     0.609G     0.1077          4        224: 100% ━━━━━━━━━━━━ 140/140 2.8it/s 50.0s\n",
            "\u001b[K               classes   top1_acc   top5_acc: 100% ━━━━━━━━━━━━ 5/5 26.5it/s 0.2s\n",
            "                   all      0.579          1\n",
            "\n",
            "      Epoch    GPU_mem       loss  Instances       Size\n",
            "\u001b[K      34/50     0.619G     0.1283          4        224: 100% ━━━━━━━━━━━━ 140/140 2.8it/s 50.7s\n",
            "\u001b[K               classes   top1_acc   top5_acc: 100% ━━━━━━━━━━━━ 5/5 29.4it/s 0.2s\n",
            "                   all      0.618          1\n",
            "\n",
            "      Epoch    GPU_mem       loss  Instances       Size\n",
            "\u001b[K      35/50     0.627G    0.08624          4        224: 100% ━━━━━━━━━━━━ 140/140 2.6it/s 52.8s\n",
            "\u001b[K               classes   top1_acc   top5_acc: 100% ━━━━━━━━━━━━ 5/5 22.3it/s 0.2s\n",
            "                   all      0.684          1\n",
            "\n",
            "      Epoch    GPU_mem       loss  Instances       Size\n",
            "\u001b[K      36/50     0.637G    0.09015          4        224: 100% ━━━━━━━━━━━━ 140/140 2.8it/s 50.5s\n",
            "\u001b[K               classes   top1_acc   top5_acc: 100% ━━━━━━━━━━━━ 5/5 29.1it/s 0.2s\n",
            "                   all      0.632          1\n",
            "\n",
            "      Epoch    GPU_mem       loss  Instances       Size\n",
            "\u001b[K      37/50     0.645G    0.07908          4        224: 100% ━━━━━━━━━━━━ 140/140 2.7it/s 51.0s\n",
            "\u001b[K               classes   top1_acc   top5_acc: 100% ━━━━━━━━━━━━ 5/5 27.0it/s 0.2s\n",
            "                   all      0.618          1\n",
            "\n",
            "      Epoch    GPU_mem       loss  Instances       Size\n",
            "\u001b[K      38/50     0.654G    0.08531          4        224: 100% ━━━━━━━━━━━━ 140/140 2.8it/s 50.8s\n",
            "\u001b[K               classes   top1_acc   top5_acc: 100% ━━━━━━━━━━━━ 5/5 23.6it/s 0.2s\n",
            "                   all      0.645          1\n",
            "\n",
            "      Epoch    GPU_mem       loss  Instances       Size\n",
            "\u001b[K      39/50     0.662G    0.06242          4        224: 100% ━━━━━━━━━━━━ 140/140 2.7it/s 51.5s\n",
            "\u001b[K               classes   top1_acc   top5_acc: 100% ━━━━━━━━━━━━ 5/5 24.6it/s 0.2s\n",
            "                   all      0.618          1\n",
            "\n",
            "      Epoch    GPU_mem       loss  Instances       Size\n",
            "\u001b[K      40/50     0.672G    0.06855          4        224: 100% ━━━━━━━━━━━━ 140/140 2.7it/s 51.4s\n",
            "\u001b[K               classes   top1_acc   top5_acc: 100% ━━━━━━━━━━━━ 5/5 22.7it/s 0.2s\n",
            "                   all      0.553          1\n",
            "\n",
            "      Epoch    GPU_mem       loss  Instances       Size\n",
            "\u001b[K      41/50      0.68G    0.07392          4        224: 100% ━━━━━━━━━━━━ 140/140 2.7it/s 51.8s\n",
            "\u001b[K               classes   top1_acc   top5_acc: 100% ━━━━━━━━━━━━ 5/5 22.3it/s 0.2s\n",
            "                   all      0.566          1\n",
            "\n",
            "      Epoch    GPU_mem       loss  Instances       Size\n",
            "\u001b[K      42/50     0.688G    0.08508          4        224: 100% ━━━━━━━━━━━━ 140/140 2.7it/s 51.6s\n",
            "\u001b[K               classes   top1_acc   top5_acc: 100% ━━━━━━━━━━━━ 5/5 22.3it/s 0.2s\n",
            "                   all      0.592          1\n",
            "\n",
            "      Epoch    GPU_mem       loss  Instances       Size\n",
            "\u001b[K      43/50     0.697G    0.05429          4        224: 100% ━━━━━━━━━━━━ 140/140 2.8it/s 50.9s\n",
            "\u001b[K               classes   top1_acc   top5_acc: 100% ━━━━━━━━━━━━ 5/5 25.4it/s 0.2s\n",
            "                   all      0.539          1\n",
            "\n",
            "      Epoch    GPU_mem       loss  Instances       Size\n",
            "\u001b[K      44/50     0.705G    0.04137          4        224: 100% ━━━━━━━━━━━━ 140/140 2.8it/s 50.7s\n",
            "\u001b[K               classes   top1_acc   top5_acc: 100% ━━━━━━━━━━━━ 5/5 24.0it/s 0.2s\n",
            "                   all      0.579          1\n",
            "\n",
            "      Epoch    GPU_mem       loss  Instances       Size\n",
            "\u001b[K      45/50     0.715G    0.06916          4        224: 100% ━━━━━━━━━━━━ 140/140 2.7it/s 52.0s\n",
            "\u001b[K               classes   top1_acc   top5_acc: 100% ━━━━━━━━━━━━ 5/5 23.1it/s 0.2s\n",
            "                   all      0.579          1\n",
            "\n",
            "      Epoch    GPU_mem       loss  Instances       Size\n",
            "\u001b[K      46/50     0.723G    0.05958          4        224: 100% ━━━━━━━━━━━━ 140/140 2.8it/s 50.5s\n",
            "\u001b[K               classes   top1_acc   top5_acc: 100% ━━━━━━━━━━━━ 5/5 19.3it/s 0.3s\n",
            "                   all      0.592          1\n",
            "\n",
            "      Epoch    GPU_mem       loss  Instances       Size\n",
            "\u001b[K      47/50     0.732G    0.03177          4        224: 100% ━━━━━━━━━━━━ 140/140 2.7it/s 51.7s\n",
            "\u001b[K               classes   top1_acc   top5_acc: 100% ━━━━━━━━━━━━ 5/5 27.6it/s 0.2s\n",
            "                   all      0.645          1\n",
            "\n",
            "      Epoch    GPU_mem       loss  Instances       Size\n",
            "\u001b[K      48/50      0.74G    0.06072          4        224: 100% ━━━━━━━━━━━━ 140/140 2.7it/s 51.6s\n",
            "\u001b[K               classes   top1_acc   top5_acc: 100% ━━━━━━━━━━━━ 5/5 26.2it/s 0.2s\n",
            "                   all      0.658          1\n",
            "\n",
            "      Epoch    GPU_mem       loss  Instances       Size\n",
            "\u001b[K      49/50      0.75G    0.04996          4        224: 100% ━━━━━━━━━━━━ 140/140 2.7it/s 51.0s\n",
            "\u001b[K               classes   top1_acc   top5_acc: 100% ━━━━━━━━━━━━ 5/5 21.5it/s 0.2s\n",
            "                   all      0.632          1\n",
            "\n",
            "      Epoch    GPU_mem       loss  Instances       Size\n",
            "\u001b[K      50/50     0.758G    0.03218          4        224: 100% ━━━━━━━━━━━━ 140/140 2.7it/s 51.3s\n",
            "\u001b[K               classes   top1_acc   top5_acc: 100% ━━━━━━━━━━━━ 5/5 30.9it/s 0.2s\n",
            "                   all      0.645          1\n",
            "\n",
            "50 epochs completed in 0.719 hours.\n",
            "Optimizer stripped from /content/runs/classify/train/weights/last.pt, 3.2MB\n",
            "Optimizer stripped from /content/runs/classify/train/weights/best.pt, 3.2MB\n",
            "\n",
            "Validating /content/runs/classify/train/weights/best.pt...\n",
            "Ultralytics 8.3.222 🚀 Python-3.12.12 torch-2.9.0+cu128 CUDA:0 (Tesla T4, 15095MiB)\n",
            "YOLO11n-cls summary (fused): 47 layers, 1,531,148 parameters, 0 gradients, 3.2 GFLOPs\n",
            "\u001b[34m\u001b[1mtrain:\u001b[0m /content/asset_styles_yolo/train... found 1116 images in 4 classes ✅ \n",
            "\u001b[34m\u001b[1mval:\u001b[0m /content/asset_styles_yolo/val... found 76 images in 4 classes ✅ \n",
            "\u001b[34m\u001b[1mtest:\u001b[0m /content/asset_styles_yolo/test... found 44 images in 4 classes ✅ \n",
            "\u001b[K               classes   top1_acc   top5_acc: 100% ━━━━━━━━━━━━ 5/5 3.6it/s 1.4s\n",
            "                   all      0.684          1\n",
            "Speed: 0.1ms preprocess, 1.7ms inference, 0.0ms loss, 0.0ms postprocess per image\n",
            "Results saved to \u001b[1m/content/runs/classify/train\u001b[0m\n"
          ]
        }
      ]
    },
    {
      "cell_type": "code",
      "source": [
        "import os\n",
        "from pathlib import Path\n",
        "from sklearn.metrics import precision_score, recall_score, f1_score, confusion_matrix\n",
        "from ultralytics import YOLO\n",
        "\n",
        "# --- CONFIG ---\n",
        "val_dir = \"/content/asset_styles_yolo/val\"  # path to validation dataset\n",
        "class_names = [\"Hand_Painted\", \"Cartoon_Stylized\", \"Pixel_Art\", \"Vector_Art\"]  # your actual classes\n",
        "extra_class_name = \"Styles\"  # the 5th class in your dataset to ignore\n",
        "extra_class_idx = len(class_names)  # index of the extra class\n",
        "\n",
        "# Load your trained YOLO classification model\n",
        "model = YOLO(\"/content/runs/classify/train/weights/best.pt\")\n",
        "\n",
        "# Lists to store true and predicted labels\n",
        "y_true = []\n",
        "y_pred = []\n",
        "\n",
        "# --- Iterate through each class folder ---\n",
        "for label_idx, class_name in enumerate(class_names):\n",
        "    class_folder = Path(val_dir) / class_name\n",
        "    if not class_folder.exists():\n",
        "        print(f\"Warning: Folder {class_folder} does not exist.\")\n",
        "        continue\n",
        "\n",
        "    # Iterate through each image in the folder\n",
        "    for img_path in class_folder.iterdir():\n",
        "        if img_path.suffix.lower() not in [\".jpg\", \".jpeg\", \".png\", \".bmp\", \".tiff\", \".webp\"]:\n",
        "            continue  # skip unsupported files\n",
        "\n",
        "        # Run prediction\n",
        "        results = model.predict(source=str(img_path), save=False, verbose=False)\n",
        "        pred = results[0].probs  # Probs object\n",
        "        pred_class = int(pred.top1)  # Use top1 attribute instead of argmax\n",
        "\n",
        "        # --- Ignore predictions for the extra \"Styles\" class ---\n",
        "        if pred_class == extra_class_idx:\n",
        "            continue\n",
        "\n",
        "        # Store true and predicted labels\n",
        "        y_true.append(label_idx)\n",
        "        y_pred.append(pred_class)\n",
        "\n",
        "# --- Compute metrics ---\n",
        "precision = precision_score(y_true, y_pred, average='macro', zero_division=0)\n",
        "recall = recall_score(y_true, y_pred, average='macro', zero_division=0)\n",
        "f1 = f1_score(y_true, y_pred, average='macro', zero_division=0)\n",
        "cm = confusion_matrix(y_true, y_pred, labels=list(range(len(class_names))))\n",
        "\n",
        "# --- Print results ---\n",
        "print(\"Precision:\", precision)\n",
        "print(\"Recall:\", recall)\n",
        "print(\"F1 Score:\", f1)\n",
        "print(\"Confusion Matrix:\\n\", cm)"
      ],
      "metadata": {
        "colab": {
          "base_uri": "https://localhost:8080/"
        },
        "id": "660BB9J0Qren",
        "outputId": "8e9d52cb-5e31-4e9e-ce81-a4a0eebb13c3"
      },
      "execution_count": 4,
      "outputs": [
        {
          "output_type": "stream",
          "name": "stdout",
          "text": [
            "Precision: 0.3967893217893218\n",
            "Recall: 0.40789473684210525\n",
            "F1 Score: 0.40081914769863125\n",
            "Confusion Matrix:\n",
            " [[ 2 16  0  1]\n",
            " [ 9  2  4  4]\n",
            " [ 1  2 13  3]\n",
            " [ 3  1  1 14]]\n"
          ]
        }
      ]
    },
    {
      "cell_type": "code",
      "source": [
        "import matplotlib.pyplot as plt\n",
        "import seaborn as sns\n",
        "from sklearn.metrics import confusion_matrix\n",
        "import numpy as np\n",
        "from pathlib import Path\n",
        "\n",
        "# --- CONFIG ---\n",
        "class_names = [\"Hand_Painted\", \"Cartoon_Stylized\", \"Pixel_Art\", \"Vector_Art\"]  # actual classes\n",
        "save_dir = Path(\"/content/runs/classify/val\")\n",
        "save_dir.mkdir(parents=True, exist_ok=True)\n",
        "save_path = save_dir / \"confusion_matrix.png\"\n",
        "\n",
        "# --- Compute confusion matrix ---\n",
        "cm = confusion_matrix(y_true, y_pred, labels=list(range(len(class_names))))\n",
        "\n",
        "# --- Create figure ---\n",
        "plt.figure(figsize=(8, 6))\n",
        "\n",
        "# Plot using seaborn heatmap\n",
        "sns.heatmap(\n",
        "    cm,\n",
        "    annot=True,\n",
        "    fmt='d',\n",
        "    cmap='Blues',\n",
        "    xticklabels=class_names,\n",
        "    yticklabels=class_names\n",
        ")\n",
        "\n",
        "plt.xlabel('Predicted')\n",
        "plt.ylabel('True')\n",
        "plt.title('Confusion Matrix')\n",
        "\n",
        "# Save to file\n",
        "plt.savefig(save_path, bbox_inches='tight')\n",
        "plt.show()\n",
        "\n",
        "print(f\"✅ Confusion matrix saved to {save_path}\")"
      ],
      "metadata": {
        "colab": {
          "base_uri": "https://localhost:8080/",
          "height": 582
        },
        "id": "cUzhow3ZMWqd",
        "outputId": "3801b953-645d-4d06-eeb5-434845737ebb"
      },
      "execution_count": 7,
      "outputs": [
        {
          "output_type": "display_data",
          "data": {
            "text/plain": [
              "<Figure size 800x600 with 2 Axes>"
            ],
            "image/png": "[encoded data removed]"
          },
          "metadata": {}
        },
        {
          "output_type": "stream",
          "name": "stdout",
          "text": [
            "✅ Confusion matrix saved to /content/runs/classify/val/confusion_matrix.png\n"
          ]
        }
      ]
    },
    {
      "cell_type": "code",
      "source": [
        "from pathlib import Path\n",
        "from ultralytics import YOLO\n",
        "import numpy as np\n",
        "\n",
        "val_dir = \"/content/asset_styles_yolo/val\"\n",
        "class_names = [\"Hand_Painted\", \"Cartoon_Stylized\", \"Pixel_Art\", \"Vector_Art\"]\n",
        "\n",
        "model = YOLO(\"/content/runs/classify/train/weights/best.pt\")\n",
        "\n",
        "y_true = []\n",
        "y_pred = []\n",
        "\n",
        "for label_idx, class_name in enumerate(class_names):\n",
        "    class_folder = Path(val_dir) / class_name\n",
        "    if not class_folder.exists():\n",
        "        continue\n",
        "    for img_path in class_folder.iterdir():\n",
        "        if img_path.suffix.lower() not in [\".jpg\", \".jpeg\", \".png\", \".bmp\", \".tiff\", \".webp\"]:\n",
        "            continue\n",
        "        results = model.predict(source=str(img_path), save=False, verbose=False)\n",
        "        pred_class = results[0].probs.top1  # Top-1 predicted class index\n",
        "        y_true.append(label_idx)\n",
        "        y_pred.append(pred_class)\n",
        "\n",
        "# --- Filter out predictions of extra \"Styles\" class if using nc=5 ---\n",
        "y_true_filtered = []\n",
        "y_pred_filtered = []\n",
        "for t, p in zip(y_true, y_pred):\n",
        "    if p < len(class_names):  # Only keep 0-3\n",
        "        y_true_filtered.append(t)\n",
        "        y_pred_filtered.append(p)"
      ],
      "metadata": {
        "id": "GyDwqJJEqiU8"
      },
      "execution_count": 15,
      "outputs": []
    },
    {
      "cell_type": "code",
      "source": [
        "import pandas as pd\n",
        "import numpy as np\n",
        "from sklearn.metrics import precision_score, recall_score, f1_score\n",
        "\n",
        "# --- Compute Top-1 Accuracy manually ---\n",
        "top1_accuracy = np.mean(np.array(y_true_filtered) == np.array(y_pred_filtered))\n",
        "\n",
        "metrics_dict = {\n",
        "    \"Top-1 Accuracy\": top1_accuracy,\n",
        "    \"Precision\": precision,\n",
        "    \"Recall\": recall,\n",
        "    \"F1 Score\": f1\n",
        "}\n",
        "\n",
        "# Save to CSV\n",
        "save_path = \"/content/classification_metrics.csv\"\n",
        "pd.DataFrame([metrics_dict]).to_csv(save_path, index=False)\n",
        "print(f\"✅ Classification metrics successfully saved to: {save_path}\")"
      ],
      "metadata": {
        "colab": {
          "base_uri": "https://localhost:8080/"
        },
        "id": "dYUJqzkTMYdU",
        "outputId": "c2f38379-c17f-4e5d-e97d-9559316e74cf"
      },
      "execution_count": 16,
      "outputs": [
        {
          "output_type": "stream",
          "name": "stdout",
          "text": [
            "✅ Classification metrics successfully saved to: /content/classification_metrics.csv\n"
          ]
        }
      ]
    },
    {
      "cell_type": "code",
      "source": [
        "# test\n",
        "from ultralytics import YOLO\n",
        "from PIL import Image\n",
        "\n",
        "# Load your trained model (use the best weights)\n",
        "model = YOLO(\"/content/runs/classify/train/weights/best.pt\")\n",
        "\n",
        "# Path to your test image\n",
        "test_image = \"/content/Styles_unzipped/Styles/Pixel Art/Characters/pixel_char_06.png\"\n",
        "# Run prediction\n",
        "results = model.predict(source=test_image, show=True)\n",
        "\n",
        "# Print predicted class\n",
        "print(\"Predicted class:\", results[0].names[results[0].probs.top1])\n",
        "print(\"Confidence:\", results[0].probs.top1conf)"
      ],
      "metadata": {
        "colab": {
          "base_uri": "https://localhost:8080/"
        },
        "id": "zKA26iWlNLLf",
        "outputId": "bb95d498-a85c-4efd-be89-11ffda5d457c"
      },
      "execution_count": 23,
      "outputs": [
        {
          "output_type": "stream",
          "name": "stdout",
          "text": [
            "\n",
            "image 1/1 /content/Styles_unzipped/Styles/Pixel Art/Characters/pixel_char_06.png: 224x224 Pixel_Art 0.56, Vector_Art 0.39, Cartoon_Stylized 0.04, Hand_Painted 0.01, 3.9ms\n",
            "Speed: 4.7ms preprocess, 3.9ms inference, 0.0ms postprocess per image at shape (1, 3, 224, 224)\n",
            "Predicted class: Pixel_Art\n",
            "Confidence: tensor(0.5628, device='cuda:0')\n"
          ]
        }
      ]
    },
    {
      "cell_type": "code",
      "source": [
        "from ultralytics import YOLO\n",
        "from pathlib import Path\n",
        "\n",
        "# Load trained model\n",
        "model = YOLO(\"/content/runs/classify/train/weights/best.pt\")\n",
        "\n",
        "# Path to test image\n",
        "test_image = \"/content/Styles_unzipped/Styles/Pixel Art/Characters/pixel_char_06.png\"\n",
        "\n",
        "# Run prediction\n",
        "results = model.predict(source=test_image, verbose=False)\n",
        "\n",
        "# Get top-1 predicted index and confidence\n",
        "top1_idx = results[0].probs.top1\n",
        "top1_conf = results[0].probs.top1conf\n",
        "\n",
        "# Map index to class name\n",
        "# Filter out the 5th class if it exists\n",
        "class_names = [\"Hand_Painted\", \"Cartoon_Stylized\", \"Pixel_Art\", \"Vector_Art\"]\n",
        "if top1_idx >= len(class_names):\n",
        "    predicted_class = \"Unknown / Extra Class\"\n",
        "else:\n",
        "    predicted_class = class_names[top1_idx]\n",
        "\n",
        "print(f\"Predicted class: {predicted_class}\")\n",
        "print(f\"Confidence: {top1_conf:.4f}\")"
      ],
      "metadata": {
        "id": "IacDaTFmWkyx",
        "outputId": "e983fd4f-243a-488a-9232-e50b06e86d2d",
        "colab": {
          "base_uri": "https://localhost:8080/"
        }
      },
      "execution_count": 25,
      "outputs": [
        {
          "output_type": "stream",
          "name": "stdout",
          "text": [
            "Predicted class: Pixel_Art\n",
            "Confidence: 0.5628\n"
          ]
        }
      ]
    }
  ]
}